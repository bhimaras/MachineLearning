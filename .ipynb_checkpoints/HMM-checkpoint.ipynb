{
 "cells": [
  {
   "cell_type": "markdown",
   "metadata": {
    "nbpresent": {
     "id": "76a245b8-d1bd-4abf-9c26-187299b7dd71"
    }
   },
   "source": [
    "# Hidden Markov Model\n",
    "\n",
    "This notebook implements the forward and backward algorithms as well as the Viterbi algorithm for a simple example problem related to gene sequencing.\n",
    "\n",
    "![hmm diagram](img/hmm1.png)"
   ]
  },
  {
   "cell_type": "markdown",
   "metadata": {
    "nbpresent": {
     "id": "e1a975e5-72c7-4ee2-bc7d-83d0147d911c"
    }
   },
   "source": [
    "## Input parameters\n",
    "* Hidden variable, _X_, can take two hidden states.\n",
    "* Observed variable, _O_, can take four states corresponding to the four DNA nucleobases: _A, C, G, T_\n",
    "* Prior probabilities, $\\pi(s_j)= P(X=s_j)$\n",
    "* Transition probabilities, $a_{ij}= P(X_{t+1}= S_j| X_t= S_i)$\n",
    "* Emission probabilities, $b_{ik}= P(O_t=k| X_t= S_i)$\n",
    "* Set of given observations: _ACCGTA_"
   ]
  },
  {
   "cell_type": "code",
   "execution_count": 1,
   "metadata": {
    "collapsed": true,
    "nbpresent": {
     "id": "3f21ede0-c121-4962-a60c-59b2034e2589"
    }
   },
   "outputs": [],
   "source": [
    "import numpy as np\n",
    "\n",
    "numStates=2\n",
    "typesObsv= 4\n",
    "\n",
    "pi= np.array([0.6, 0.4])\n",
    "\n",
    "transProb= np.array([[0.7, 0.3], [0.4, 0.6]])\n",
    "\n",
    "emProb= np.array([[.4, .2, .3, .1], [.2, .4, .1, .3]])\n",
    "\n",
    "numObsv=6\n",
    "obsvs= np.array([0,1,1,2,3,0])"
   ]
  },
  {
   "cell_type": "markdown",
   "metadata": {
    "nbpresent": {
     "id": "38d36ab2-9f48-4425-bfa4-13d3639002ab"
    }
   },
   "source": [
    "## Computation of $\\alpha_t(j)= P(X_t= s_j, o_{1:t})$\n",
    "$\\alpha_t(j)$s are computed recursively using the below formulas:\n",
    "* $\\alpha_1(j)= \\pi(s_j)P(o_1=A | X_1= s_j)$\n",
    "* $\\alpha_t(j)= P(o_t| X_t= s_j) \\sum_{i} a_{ij}\\ \\alpha_{t-1}(i)$\n",
    "\n",
    "**Note**: In the formulas the starting index is 1, but in the code it is 0."
   ]
  },
  {
   "cell_type": "code",
   "execution_count": 2,
   "metadata": {
    "collapsed": false,
    "nbpresent": {
     "id": "b173968c-83d2-4d7f-b7c8-7d0fed491155"
    }
   },
   "outputs": [],
   "source": [
    "alphas= np.zeros([numStates, numObsv])\n",
    "\n",
    "for state in range(numStates):\n",
    "    alphas[state, 0]= pi[state]*emProb[state, obsvs[0]]\n",
    "    \n",
    "for i in range(1, numObsv):\n",
    "    for state in range(numStates):\n",
    "        result=0\n",
    "        for state_tminus in range(numStates):\n",
    "            result= result + transProb[state_tminus, state]*alphas[state_tminus, i-1]\n",
    "        alphas[state, i]= result*emProb[state, obsvs[i]]\n",
    "          "
   ]
  },
  {
   "cell_type": "code",
   "execution_count": 3,
   "metadata": {
    "collapsed": false,
    "nbpresent": {
     "id": "e5ef0cf9-e3c1-4ba4-adcb-adeeff736be4"
    }
   },
   "outputs": [
    {
     "name": "stdout",
     "output_type": "stream",
     "text": [
      "Alphas: \n"
     ]
    },
    {
     "data": {
      "text/plain": [
       "array([[  2.40000000e-01,   4.00000000e-02,   9.44000000e-03,\n",
       "          3.94080000e-03,   3.26352000e-04,   1.84483200e-04],\n",
       "       [  8.00000000e-02,   4.80000000e-02,   1.63200000e-02,\n",
       "          1.26240000e-03,   5.81904000e-04,   8.94096000e-05]])"
      ]
     },
     "execution_count": 3,
     "metadata": {},
     "output_type": "execute_result"
    }
   ],
   "source": [
    "print \"Alphas: \"\n",
    "alphas"
   ]
  },
  {
   "cell_type": "markdown",
   "metadata": {
    "nbpresent": {
     "id": "adadc32b-1c62-4eac-8b86-2e83150bcfca"
    }
   },
   "source": [
    "## Computation of $\\beta_t(j)= P(o_{t+1:T}|X_t= s_j)$\n",
    "$\\beta_t(j)$s are computed recursively using the below formulas:\n",
    "* $\\beta_T(j)=1$\n",
    "* $\\beta_{t}(j)= \\sum_i P(o_{t+1}| X_{t+1}=s_i) \\ a_{ji} \\ \\beta_{t+1}(i)$\n",
    "\n",
    "**Note**: In the formulas the starting index is 1, but in the code it is 0."
   ]
  },
  {
   "cell_type": "code",
   "execution_count": 4,
   "metadata": {
    "collapsed": false,
    "nbpresent": {
     "id": "44f5c12f-74b8-46de-9335-5900bb3810cd"
    }
   },
   "outputs": [],
   "source": [
    "betas= np.zeros([numStates, numObsv])\n",
    "\n",
    "for state in range(numStates):\n",
    "    betas[state, numObsv-1]=1\n",
    "    \n",
    "for i in reversed(range(numObsv-1)):\n",
    "    for state in range(numStates):\n",
    "        result=0\n",
    "        for state_tplus in range(numStates):\n",
    "            result= result + betas[state_tplus, i+1]*emProb[state_tplus, obsvs[i+1]]*transProb[state, state_tplus]        \n",
    "        betas[state, i]= result"
   ]
  },
  {
   "cell_type": "code",
   "execution_count": 5,
   "metadata": {
    "collapsed": false,
    "nbpresent": {
     "id": "c1b9c28a-3858-43bf-97fb-daf7826883ee"
    }
   },
   "outputs": [
    {
     "data": {
      "text/plain": [
       "array([[  7.99764000e-04,   2.87580000e-03,   1.22100000e-02,\n",
       "          4.90000000e-02,   3.40000000e-01,   1.00000000e+00],\n",
       "       [  1.02436800e-03,   3.30960000e-03,   9.72000000e-03,\n",
       "          6.40000000e-02,   2.80000000e-01,   1.00000000e+00]])"
      ]
     },
     "execution_count": 5,
     "metadata": {},
     "output_type": "execute_result"
    }
   ],
   "source": [
    "betas"
   ]
  },
  {
   "cell_type": "markdown",
   "metadata": {
    "nbpresent": {
     "id": "fce958bb-76fc-4462-9f68-2f0000261eaa"
    }
   },
   "source": [
    "### Probability of the observed sequence, $P(\\mathbf{O}; \\Theta)$\n",
    "\n",
    "$P(\\mathbf{O}; \\Theta) = \\sum_{j} \\alpha_T(j)$\n"
   ]
  },
  {
   "cell_type": "code",
   "execution_count": 6,
   "metadata": {
    "collapsed": false,
    "nbpresent": {
     "id": "d6c7d75b-d595-4466-a6a1-16b94272d9e5"
    }
   },
   "outputs": [
    {
     "data": {
      "text/plain": [
       "0.00027389280000000003"
      ]
     },
     "execution_count": 6,
     "metadata": {},
     "output_type": "execute_result"
    }
   ],
   "source": [
    "alphas[0, 5]+ alphas[1, 5]"
   ]
  },
  {
   "cell_type": "markdown",
   "metadata": {
    "nbpresent": {
     "id": "8ca9b87d-4f45-4b36-8a54-36a24c59fbbc"
    }
   },
   "source": [
    "### _Filtering_, $P(X_6= S_i| \\mathbf{O}; \\Theta)\\text{ for } i= 1,2$\n",
    "We need to use $\\gamma_t(j)$ to compute this.\n",
    "* $\\gamma_t(j)= P(X_t=s_j| o_{1:T})= \\frac{\\alpha_t(j)\\ \\beta_t(j)}{\\sum_{i} \\alpha_t(i)\\ \\beta_t(i)}$\n",
    "\n",
    "Therefore $\\gamma_6(j)= \\frac{\\alpha_6(j)\\ \\beta_6(j)}{\\sum_{i} \\alpha_6(i)\\ \\beta_6(i)}$\n",
    "\n",
    "**Note**: In the formulas the starting index is 1, but in the code it is 0. Therefore the last index in the formulas is 6, but in the code it is 5"
   ]
  },
  {
   "cell_type": "code",
   "execution_count": 7,
   "metadata": {
    "collapsed": true,
    "nbpresent": {
     "id": "1632d1d8-a489-401e-a988-acb02f0c19d5"
    }
   },
   "outputs": [],
   "source": [
    "denom=0\n",
    "for state in range(numStates):\n",
    "    denom= denom + alphas[state, 5]*betas[state, 5]"
   ]
  },
  {
   "cell_type": "code",
   "execution_count": 8,
   "metadata": {
    "collapsed": false,
    "nbpresent": {
     "id": "0b524833-2955-449a-bcaa-3bd4f90ed3db"
    }
   },
   "outputs": [
    {
     "data": {
      "text/plain": [
       "0.67355987452025023"
      ]
     },
     "execution_count": 8,
     "metadata": {},
     "output_type": "execute_result"
    }
   ],
   "source": [
    "alphas[0,5]*betas[0,5]/ denom"
   ]
  },
  {
   "cell_type": "code",
   "execution_count": 9,
   "metadata": {
    "collapsed": false,
    "nbpresent": {
     "id": "e4034899-0b7f-4faf-a741-f03587b6f943"
    }
   },
   "outputs": [
    {
     "data": {
      "text/plain": [
       "0.32644012547974971"
      ]
     },
     "execution_count": 9,
     "metadata": {},
     "output_type": "execute_result"
    }
   ],
   "source": [
    "alphas[1,5]*betas[1,5]/ denom"
   ]
  },
  {
   "cell_type": "markdown",
   "metadata": {
    "nbpresent": {
     "id": "b5e04f2f-ab27-4d55-81ce-2023d0dfab39"
    }
   },
   "source": [
    "### _Smoothing_, $P(X_4= S_i| \\mathbf{O}; \\Theta)\\text{ for } i= 1,2$\n",
    "\n",
    "Again, we need to use $\\gamma_t(j)$ to compute this.\n",
    "\n",
    "Therefore $\\gamma_4(j)= \\frac{\\alpha_4(j)\\ \\beta_4(j)}{\\sum_{i} \\alpha_4(i)\\ \\beta_4(i)}$\n",
    "\n",
    "**Note**: In the formulas the starting index is 1, but in the code it is 0. Therefore the fourth index in the formulas is 4, but in the code it is 3"
   ]
  },
  {
   "cell_type": "code",
   "execution_count": 10,
   "metadata": {
    "collapsed": true,
    "nbpresent": {
     "id": "9e95024f-3a71-46bf-a7b3-ce6e1afcf030"
    }
   },
   "outputs": [],
   "source": [
    "denom=0\n",
    "for state in range(numStates):\n",
    "    denom= denom + alphas[state, 3]*betas[state, 3]"
   ]
  },
  {
   "cell_type": "code",
   "execution_count": 11,
   "metadata": {
    "collapsed": false,
    "nbpresent": {
     "id": "6d95be33-218c-4559-ad3e-728118f16e70"
    }
   },
   "outputs": [
    {
     "data": {
      "text/plain": [
       "0.70501743747918888"
      ]
     },
     "execution_count": 11,
     "metadata": {},
     "output_type": "execute_result"
    }
   ],
   "source": [
    "alphas[0,3]*betas[0,3]/ denom"
   ]
  },
  {
   "cell_type": "code",
   "execution_count": 12,
   "metadata": {
    "collapsed": false,
    "nbpresent": {
     "id": "67d2858f-c7bc-4879-94bc-a742497b7f0f"
    }
   },
   "outputs": [
    {
     "data": {
      "text/plain": [
       "0.29498256252081106"
      ]
     },
     "execution_count": 12,
     "metadata": {},
     "output_type": "execute_result"
    }
   ],
   "source": [
    "alphas[1,3]*betas[1,3]/ denom"
   ]
  },
  {
   "cell_type": "markdown",
   "metadata": {
    "nbpresent": {
     "id": "d7aff51a-ebda-487c-88f5-752c3e8a94c9"
    }
   },
   "source": [
    "## Viterbi Algorithm\n",
    "\n",
    "For the Viterbi algorithm, we need to implement $\\delta_t(j)= \\underset{x_1, x_2,..., x_{t-1}}{max}\\ P(X_1=x_1, X_2= x_2,..., X_{t-1}=x_{t-1}, X_t= s_j, o_{1:t};\\Theta)$ (the most likely path ending with $X_t= s_j$) recursively as follows:\n",
    "* $\\delta_1(j)= P(X_1=s_j)\\ P(o_1 | X_1= s_j)$\n",
    "* $\\delta_t(j)= \\underset{i}{max} \\ \\{ P(o_t| X_t= s_j) \\ a_{ij} \\ \\delta_{t-1}(i)\\}$"
   ]
  },
  {
   "cell_type": "code",
   "execution_count": 19,
   "metadata": {
    "collapsed": false,
    "nbpresent": {
     "id": "b4351ae8-175c-4400-a282-17d6c5e9836e"
    }
   },
   "outputs": [],
   "source": [
    "###Viterbi Alg.\n",
    "deltas= np.zeros([numStates, numObsv])\n",
    "deltas_argmax= -1*np.ones([numStates, numObsv-1])\n",
    "\n",
    "for state in range(numStates):\n",
    "    deltas[state, 0]= pi[state]*emProb[state, obsvs[0]]\n",
    "\n",
    "for i in range(1, numObsv):\n",
    "    for state in range(numStates):\n",
    "        temp=[]\n",
    "        for state_tminus in range(numStates):\n",
    "            temp.append(emProb[state, obsvs[i]]*transProb[state_tminus, state]*deltas[state_tminus, i-1])\n",
    "        deltas[state, i]= max(temp)\n",
    "        deltas_argmax[state, i-1]= np.argmax(temp)"
   ]
  },
  {
   "cell_type": "code",
   "execution_count": 20,
   "metadata": {
    "collapsed": false,
    "nbpresent": {
     "id": "cfca2c0a-1e52-4370-8038-5cb599fdb6b4"
    }
   },
   "outputs": [
    {
     "data": {
      "text/plain": [
       "array([[  2.40000000e-01,   3.36000000e-02,   4.70400000e-03,\n",
       "          9.87840000e-04,   6.91488000e-05,   1.93616640e-05],\n",
       "       [  8.00000000e-02,   2.88000000e-02,   6.91200000e-03,\n",
       "          4.14720000e-04,   8.89056000e-05,   1.06686720e-05]])"
      ]
     },
     "execution_count": 20,
     "metadata": {},
     "output_type": "execute_result"
    }
   ],
   "source": [
    "deltas"
   ]
  },
  {
   "cell_type": "code",
   "execution_count": 21,
   "metadata": {
    "collapsed": false
   },
   "outputs": [
    {
     "data": {
      "text/plain": [
       "array([[ 0.,  0.,  0.,  0.,  0.],\n",
       "       [ 0.,  1.,  1.,  0.,  1.]])"
      ]
     },
     "execution_count": 21,
     "metadata": {},
     "output_type": "execute_result"
    }
   ],
   "source": [
    "deltas_argmax"
   ]
  },
  {
   "cell_type": "markdown",
   "metadata": {
    "nbpresent": {
     "id": "1383f9b1-e309-4c4a-bebf-7ee6f2bb3e59"
    }
   },
   "source": [
    "### _Most likely explanation_, $\\mathbf{X}= \\underset{\\mathbf{X}}{arg \\ max}\\ P(\\mathbf{X} \\ | \\ \\mathbf{O}; \\Theta)$"
   ]
  },
  {
   "cell_type": "code",
   "execution_count": 31,
   "metadata": {
    "collapsed": false,
    "nbpresent": {
     "id": "0575c2f0-74ff-4a5d-a0bf-f8c6b1a9ef2d"
    }
   },
   "outputs": [],
   "source": [
    "mostLikelySeq= []\n",
    "mostLikelyStatet= np.argmax(deltas[:, -1])\n",
    "mostLikelySeq.append(mostLikelyStatet)\n",
    "\n",
    "for i in reversed(range(numObsv-1)):\n",
    "    mostLikelySeq.append(deltas_argmax[int(mostLikelyStatet), i])\n",
    "    mostLikelyStatet=deltas_argmax[int(mostLikelyStatet), i]\n",
    "mostLikelySeq.reverse()"
   ]
  },
  {
   "cell_type": "code",
   "execution_count": 32,
   "metadata": {
    "collapsed": false
   },
   "outputs": [
    {
     "data": {
      "text/plain": [
       "[0.0, 0.0, 0.0, 0.0, 0.0, 0]"
      ]
     },
     "execution_count": 32,
     "metadata": {},
     "output_type": "execute_result"
    }
   ],
   "source": [
    "mostLikelySeq"
   ]
  },
  {
   "cell_type": "markdown",
   "metadata": {
    "nbpresent": {
     "id": "3b43eea7-6b91-46e7-90af-478d3a8054a4"
    }
   },
   "source": [
    "### _Prediction_,  Compute $P(O_7 \\ | \\ \\mathbf{O}; \\Theta)$\n",
    "\n",
    "For predicting the next state, we use the following formula:\n",
    "* $P(O_{T+1} |\\ \\mathbf{O})=  \\frac{1}{P(\\mathbf{O})} \\sum_{X_{T+1}} P(O_{T+1}| X_{T+1}) \\sum_{X_T} P(X_{T+1}| X_T) \\ \\alpha(X_T)$\n",
    "* $P(\\mathbf{O})= \\sum_{X_N} \\alpha_T(X_N)$\n",
    "\n",
    "The details of derivation of the above formula can be found [here](http://users-cs.au.dk/cstorm/courses/PRiB_f12/slides/hidden-markov-models-1.pdf)"
   ]
  },
  {
   "cell_type": "code",
   "execution_count": 17,
   "metadata": {
    "collapsed": false,
    "nbpresent": {
     "id": "133b4883-799c-4720-a70f-fc645765627f"
    }
   },
   "outputs": [],
   "source": [
    "pO= alphas[0, 5]+ alphas[1, 5]\n",
    "\n",
    "nxtObsvProb= []\n",
    "\n",
    "for obsv in range(typesObsv):\n",
    "    result=0\n",
    "    for state_nplus in range(numStates):\n",
    "        \n",
    "        tempRes=0\n",
    "        for state in range(numStates):\n",
    "            tempRes= tempRes + transProb[state, state_nplus]*alphas[state, 5]\n",
    "        \n",
    "        result= result + tempRes*emProb[state_nplus, obsv]\n",
    "        \n",
    "    nxtObsvProb.append(result/pO )\n",
    "    "
   ]
  },
  {
   "cell_type": "code",
   "execution_count": 18,
   "metadata": {
    "collapsed": false,
    "nbpresent": {
     "id": "2c2d8f3c-2517-4081-92f1-2ef2022c6d80"
    }
   },
   "outputs": [
    {
     "data": {
      "text/plain": [
       "[0.32041359247121498,\n",
       " 0.27958640752878494,\n",
       " 0.22041359247121498,\n",
       " 0.17958640752878496]"
      ]
     },
     "execution_count": 18,
     "metadata": {},
     "output_type": "execute_result"
    }
   ],
   "source": [
    "nxtObsvProb"
   ]
  },
  {
   "cell_type": "code",
   "execution_count": 19,
   "metadata": {
    "collapsed": false,
    "nbpresent": {
     "id": "0b645803-111e-4741-a538-c6be098e5759"
    }
   },
   "outputs": [
    {
     "data": {
      "text/plain": [
       "0"
      ]
     },
     "execution_count": 19,
     "metadata": {},
     "output_type": "execute_result"
    }
   ],
   "source": [
    "np.argmax(nxtObsvProb)"
   ]
  }
 ],
 "metadata": {
  "anaconda-cloud": {},
  "kernelspec": {
   "display_name": "Python [gl-env]",
   "language": "python",
   "name": "Python [gl-env]"
  },
  "language_info": {
   "codemirror_mode": {
    "name": "ipython",
    "version": 2
   },
   "file_extension": ".py",
   "mimetype": "text/x-python",
   "name": "python",
   "nbconvert_exporter": "python",
   "pygments_lexer": "ipython2",
   "version": "2.7.11"
  },
  "nbpresent": {
   "slides": {
    "05817034-bb4f-4c22-8952-cb81ec285185": {
     "id": "05817034-bb4f-4c22-8952-cb81ec285185",
     "prev": "0696a427-0825-4492-a3d9-951c819e3be7",
     "regions": {
      "bf215d22-6711-4be6-b8fe-f23b25bafd25": {
       "attrs": {
        "height": 0.8,
        "width": 0.8,
        "x": 0.1,
        "y": 0.1
       },
       "content": {
        "cell": "9e95024f-3a71-46bf-a7b3-ce6e1afcf030",
        "part": "whole"
       },
       "id": "bf215d22-6711-4be6-b8fe-f23b25bafd25"
      }
     }
    },
    "0696a427-0825-4492-a3d9-951c819e3be7": {
     "id": "0696a427-0825-4492-a3d9-951c819e3be7",
     "prev": "6556bf2d-cb1f-41e0-8048-3b308d90799b",
     "regions": {
      "7d29065c-6886-471a-bbc4-50f1ac247419": {
       "attrs": {
        "height": 0.8,
        "width": 0.8,
        "x": 0.1,
        "y": 0.1
       },
       "content": {
        "cell": "b5e04f2f-ab27-4d55-81ce-2023d0dfab39",
        "part": "whole"
       },
       "id": "7d29065c-6886-471a-bbc4-50f1ac247419"
      }
     }
    },
    "1ead48af-f82e-47dc-af7e-bbbc3cac4b7b": {
     "id": "1ead48af-f82e-47dc-af7e-bbbc3cac4b7b",
     "prev": "4ed7d4b5-c81b-428c-81d4-f5cf7d7f75bb",
     "regions": {
      "328ed001-a122-4452-94e7-e3b8f8b2d797": {
       "attrs": {
        "height": 0.8,
        "width": 0.8,
        "x": 0.1,
        "y": 0.1
       },
       "content": {
        "cell": "b4351ae8-175c-4400-a282-17d6c5e9836e",
        "part": "whole"
       },
       "id": "328ed001-a122-4452-94e7-e3b8f8b2d797"
      }
     }
    },
    "31b34b2b-f179-4a71-9c57-53e0e50c6518": {
     "id": "31b34b2b-f179-4a71-9c57-53e0e50c6518",
     "prev": "c3026cd9-98aa-4c21-b4cc-28d1480dceea",
     "regions": {
      "929efa36-6d9f-4813-a919-38cb28d2d2a7": {
       "attrs": {
        "height": 0.8,
        "width": 0.8,
        "x": 0.1,
        "y": 0.1
       },
       "content": {
        "cell": "e5ef0cf9-e3c1-4ba4-adcb-adeeff736be4",
        "part": "whole"
       },
       "id": "929efa36-6d9f-4813-a919-38cb28d2d2a7"
      }
     }
    },
    "351cb79b-af5d-47f9-90fb-ae2ac8caa054": {
     "id": "351cb79b-af5d-47f9-90fb-ae2ac8caa054",
     "prev": "1ead48af-f82e-47dc-af7e-bbbc3cac4b7b",
     "regions": {
      "6b9c671c-85bb-4178-b3bd-564f30c67606": {
       "attrs": {
        "height": 0.8,
        "width": 0.8,
        "x": 0.1,
        "y": 0.1
       },
       "content": {
        "cell": "cfca2c0a-1e52-4370-8038-5cb599fdb6b4",
        "part": "whole"
       },
       "id": "6b9c671c-85bb-4178-b3bd-564f30c67606"
      }
     }
    },
    "3f419ddb-3197-4bcc-9af1-357db1e1e45f": {
     "id": "3f419ddb-3197-4bcc-9af1-357db1e1e45f",
     "prev": "5f6fe004-d0fd-4965-ab7b-a26c7857f245",
     "regions": {
      "858920ac-8e2a-44a8-864d-0b211b99343e": {
       "attrs": {
        "height": 0.8,
        "width": 0.8,
        "x": 0.1,
        "y": 0.1
       },
       "content": {
        "cell": "67d2858f-c7bc-4879-94bc-a742497b7f0f",
        "part": "whole"
       },
       "id": "858920ac-8e2a-44a8-864d-0b211b99343e"
      }
     }
    },
    "4e3ff549-1994-4c53-9a45-0b2683272214": {
     "id": "4e3ff549-1994-4c53-9a45-0b2683272214",
     "prev": "af51c0aa-206b-4ba5-8553-3d7354c74507",
     "regions": {
      "018bfff3-7f58-416d-b13b-544fb8225461": {
       "attrs": {
        "height": 0.8,
        "width": 0.8,
        "x": 0.1,
        "y": 0.1
       },
       "content": {
        "cell": "8ca9b87d-4f45-4b36-8a54-36a24c59fbbc",
        "part": "whole"
       },
       "id": "018bfff3-7f58-416d-b13b-544fb8225461"
      }
     }
    },
    "4ed7d4b5-c81b-428c-81d4-f5cf7d7f75bb": {
     "id": "4ed7d4b5-c81b-428c-81d4-f5cf7d7f75bb",
     "prev": "3f419ddb-3197-4bcc-9af1-357db1e1e45f",
     "regions": {
      "3aebb15c-536c-4050-bf24-a12133fe04fa": {
       "attrs": {
        "height": 0.8,
        "width": 0.8,
        "x": 0.1,
        "y": 0.1
       },
       "content": {
        "cell": "d7aff51a-ebda-487c-88f5-752c3e8a94c9",
        "part": "whole"
       },
       "id": "3aebb15c-536c-4050-bf24-a12133fe04fa"
      }
     }
    },
    "5f6fe004-d0fd-4965-ab7b-a26c7857f245": {
     "id": "5f6fe004-d0fd-4965-ab7b-a26c7857f245",
     "prev": "05817034-bb4f-4c22-8952-cb81ec285185",
     "regions": {
      "0e4bd5cb-7f8e-4b77-a240-7cd43436ab22": {
       "attrs": {
        "height": 0.8,
        "width": 0.8,
        "x": 0.1,
        "y": 0.1
       },
       "content": {
        "cell": "6d95be33-218c-4559-ad3e-728118f16e70",
        "part": "whole"
       },
       "id": "0e4bd5cb-7f8e-4b77-a240-7cd43436ab22"
      }
     }
    },
    "6556bf2d-cb1f-41e0-8048-3b308d90799b": {
     "id": "6556bf2d-cb1f-41e0-8048-3b308d90799b",
     "prev": "6ec371e0-d620-46cd-b66f-9afe054b3cc4",
     "regions": {
      "3db38e41-6d68-4212-b244-ed50e2b4969e": {
       "attrs": {
        "height": 0.8,
        "width": 0.8,
        "x": 0.1,
        "y": 0.1
       },
       "content": {
        "cell": "e4034899-0b7f-4faf-a741-f03587b6f943",
        "part": "whole"
       },
       "id": "3db38e41-6d68-4212-b244-ed50e2b4969e"
      }
     }
    },
    "6ec371e0-d620-46cd-b66f-9afe054b3cc4": {
     "id": "6ec371e0-d620-46cd-b66f-9afe054b3cc4",
     "prev": "f9052795-5581-4fe8-a161-fdcc6d308337",
     "regions": {
      "3a09972d-0f1a-4535-bdb4-1ea424fdcdca": {
       "attrs": {
        "height": 0.8,
        "width": 0.8,
        "x": 0.1,
        "y": 0.1
       },
       "content": {
        "cell": "0b524833-2955-449a-bcaa-3bd4f90ed3db",
        "part": "whole"
       },
       "id": "3a09972d-0f1a-4535-bdb4-1ea424fdcdca"
      }
     }
    },
    "8a3d0dc2-e63c-4837-a760-0a17d030c04c": {
     "id": "8a3d0dc2-e63c-4837-a760-0a17d030c04c",
     "prev": "ab458644-4939-4f86-a53c-dca2d5bdaefc",
     "regions": {
      "7e43621b-8971-425b-b78b-d7d4453fd215": {
       "attrs": {
        "height": 0.8,
        "width": 0.8,
        "x": 0.1,
        "y": 0.1
       },
       "content": {
        "cell": "fce958bb-76fc-4462-9f68-2f0000261eaa",
        "part": "whole"
       },
       "id": "7e43621b-8971-425b-b78b-d7d4453fd215"
      }
     }
    },
    "a091649c-c501-4221-ab8e-4f21fb7803e9": {
     "id": "a091649c-c501-4221-ab8e-4f21fb7803e9",
     "prev": "a81b4248-373d-43bb-8499-0ece5eb44d08",
     "regions": {
      "f233f2aa-b7e8-4078-958c-3cd2fa985a24": {
       "attrs": {
        "height": 0.8,
        "width": 0.8,
        "x": 0.1,
        "y": 0.1
       },
       "content": {
        "cell": "2c2d8f3c-2517-4081-92f1-2ef2022c6d80",
        "part": "whole"
       },
       "id": "f233f2aa-b7e8-4078-958c-3cd2fa985a24"
      }
     }
    },
    "a81b4248-373d-43bb-8499-0ece5eb44d08": {
     "id": "a81b4248-373d-43bb-8499-0ece5eb44d08",
     "prev": "dc96944a-11fb-40c5-92cb-f654675ae628",
     "regions": {
      "af285a9a-eab1-47f2-ae9a-b138f78a7bd8": {
       "attrs": {
        "height": 0.8,
        "width": 0.8,
        "x": 0.1,
        "y": 0.1
       },
       "content": {
        "cell": "133b4883-799c-4720-a70f-fc645765627f",
        "part": "whole"
       },
       "id": "af285a9a-eab1-47f2-ae9a-b138f78a7bd8"
      }
     }
    },
    "ab458644-4939-4f86-a53c-dca2d5bdaefc": {
     "id": "ab458644-4939-4f86-a53c-dca2d5bdaefc",
     "prev": "ae359b14-3b2d-4e56-b65d-a5d4d76bd47c",
     "regions": {
      "8c9987a9-3353-442c-8691-711cab1b1409": {
       "attrs": {
        "height": 0.8,
        "width": 0.8,
        "x": 0.1,
        "y": 0.1
       },
       "content": {
        "cell": "c1b9c28a-3858-43bf-97fb-daf7826883ee",
        "part": "whole"
       },
       "id": "8c9987a9-3353-442c-8691-711cab1b1409"
      }
     }
    },
    "adb898a6-e3bb-46aa-a14b-cf1eb4623001": {
     "id": "adb898a6-e3bb-46aa-a14b-cf1eb4623001",
     "prev": "bd1eb27b-e26e-4ec6-a48a-87571ea65750",
     "regions": {
      "c4122dec-285a-4476-bd54-04ba7e037f3e": {
       "attrs": {
        "height": 0.8,
        "width": 0.8,
        "x": 0.1,
        "y": 0.1
       },
       "content": {
        "cell": "0575c2f0-74ff-4a5d-a0bf-f8c6b1a9ef2d",
        "part": "whole"
       },
       "id": "c4122dec-285a-4476-bd54-04ba7e037f3e"
      }
     }
    },
    "ae359b14-3b2d-4e56-b65d-a5d4d76bd47c": {
     "id": "ae359b14-3b2d-4e56-b65d-a5d4d76bd47c",
     "prev": "cc9742e4-9e22-44f2-bcb6-ac6645199fb1",
     "regions": {
      "97808fb3-2672-4bb7-a28a-030b1def301b": {
       "attrs": {
        "height": 0.8,
        "width": 0.8,
        "x": 0.1,
        "y": 0.1
       },
       "content": {
        "cell": "44f5c12f-74b8-46de-9335-5900bb3810cd",
        "part": "whole"
       },
       "id": "97808fb3-2672-4bb7-a28a-030b1def301b"
      }
     }
    },
    "af51c0aa-206b-4ba5-8553-3d7354c74507": {
     "id": "af51c0aa-206b-4ba5-8553-3d7354c74507",
     "prev": "8a3d0dc2-e63c-4837-a760-0a17d030c04c",
     "regions": {
      "4fead196-c6ca-44fa-a8bc-842b1eefb3fc": {
       "attrs": {
        "height": 0.8,
        "width": 0.8,
        "x": 0.1,
        "y": 0.1
       },
       "content": {
        "cell": "d6c7d75b-d595-4466-a6a1-16b94272d9e5",
        "part": "whole"
       },
       "id": "4fead196-c6ca-44fa-a8bc-842b1eefb3fc"
      }
     }
    },
    "bd1eb27b-e26e-4ec6-a48a-87571ea65750": {
     "id": "bd1eb27b-e26e-4ec6-a48a-87571ea65750",
     "prev": "351cb79b-af5d-47f9-90fb-ae2ac8caa054",
     "regions": {
      "524b13b5-9faa-42aa-8849-0ee99abce54d": {
       "attrs": {
        "height": 0.8,
        "width": 0.8,
        "x": 0.1,
        "y": 0.1
       },
       "content": {
        "cell": "1383f9b1-e309-4c4a-bebf-7ee6f2bb3e59",
        "part": "whole"
       },
       "id": "524b13b5-9faa-42aa-8849-0ee99abce54d"
      }
     }
    },
    "c3026cd9-98aa-4c21-b4cc-28d1480dceea": {
     "id": "c3026cd9-98aa-4c21-b4cc-28d1480dceea",
     "prev": null,
     "regions": {
      "3dca9006-16c4-44b9-a95e-3441168a8a88": {
       "attrs": {
        "height": 0.8,
        "width": 0.8,
        "x": 0.1,
        "y": 0.1
       },
       "content": {
        "cell": "b173968c-83d2-4d7f-b7c8-7d0fed491155",
        "part": "whole"
       },
       "id": "3dca9006-16c4-44b9-a95e-3441168a8a88"
      }
     }
    },
    "cc9742e4-9e22-44f2-bcb6-ac6645199fb1": {
     "id": "cc9742e4-9e22-44f2-bcb6-ac6645199fb1",
     "prev": "31b34b2b-f179-4a71-9c57-53e0e50c6518",
     "regions": {
      "c9c92c8f-2ebb-4db6-829c-f15767df76b5": {
       "attrs": {
        "height": 0.8,
        "width": 0.8,
        "x": 0.1,
        "y": 0.1
       },
       "content": {
        "cell": "adadc32b-1c62-4eac-8b86-2e83150bcfca",
        "part": "whole"
       },
       "id": "c9c92c8f-2ebb-4db6-829c-f15767df76b5"
      }
     }
    },
    "d61a50e3-26af-47f5-bb07-5355e6e8e3f3": {
     "id": "d61a50e3-26af-47f5-bb07-5355e6e8e3f3",
     "prev": "a091649c-c501-4221-ab8e-4f21fb7803e9",
     "regions": {
      "eaaa9743-3122-447b-a136-f3d2f97bba48": {
       "attrs": {
        "height": 0.8,
        "width": 0.8,
        "x": 0.1,
        "y": 0.1
       },
       "content": {
        "cell": "0b645803-111e-4741-a538-c6be098e5759",
        "part": "whole"
       },
       "id": "eaaa9743-3122-447b-a136-f3d2f97bba48"
      }
     }
    },
    "dc96944a-11fb-40c5-92cb-f654675ae628": {
     "id": "dc96944a-11fb-40c5-92cb-f654675ae628",
     "prev": "adb898a6-e3bb-46aa-a14b-cf1eb4623001",
     "regions": {
      "c5334407-2b03-4717-b9e8-dc0fa0cf1568": {
       "attrs": {
        "height": 0.8,
        "width": 0.8,
        "x": 0.1,
        "y": 0.1
       },
       "content": {
        "cell": "3b43eea7-6b91-46e7-90af-478d3a8054a4",
        "part": "whole"
       },
       "id": "c5334407-2b03-4717-b9e8-dc0fa0cf1568"
      }
     }
    },
    "f9052795-5581-4fe8-a161-fdcc6d308337": {
     "id": "f9052795-5581-4fe8-a161-fdcc6d308337",
     "prev": "4e3ff549-1994-4c53-9a45-0b2683272214",
     "regions": {
      "9ea9c1d0-23a2-4d70-b7c8-1f1aba755d6e": {
       "attrs": {
        "height": 0.8,
        "width": 0.8,
        "x": 0.1,
        "y": 0.1
       },
       "content": {
        "cell": "1632d1d8-a489-401e-a988-acb02f0c19d5",
        "part": "whole"
       },
       "id": "9ea9c1d0-23a2-4d70-b7c8-1f1aba755d6e"
      }
     }
    }
   },
   "themes": {}
  }
 },
 "nbformat": 4,
 "nbformat_minor": 0
}
